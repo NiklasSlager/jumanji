{
  "cells": [
    {
      "cell_type": "markdown",
      "metadata": {
        "id": "N9Ct9sS231sC"
      },
      "source": [
        "<a target=\"_blank\" href=\"https://colab.research.google.com/github/instadeepai/jumanji/blob/main/examples/training.ipynb\">\n",
        "  <img src=\"https://colab.research.google.com/assets/colab-badge.svg\" alt=\"Open In Colab\"/>\n",
        "</a>"
      ]
    },
    {
      "cell_type": "code",
      "execution_count": 1,
      "metadata": {
        "ExecuteTime": {
          "end_time": "2023-06-14T10:11:33.230999708Z",
          "start_time": "2023-06-14T10:11:13.526881698Z"
        },
        "collapsed": true,
        "jupyter": {
          "outputs_hidden": true
        },
        "id": "lKSFuQhn31sF"
      },
      "outputs": [],
      "source": [
        "%%capture\n",
        "!pip install --quiet -U \"jumanji[train] @ git+https://github.com/instadeepai/jumanji.git@main\""
      ]
    },
    {
      "cell_type": "code",
      "execution_count": null,
      "metadata": {
        "ExecuteTime": {
          "end_time": "2023-06-14T10:11:33.245117659Z",
          "start_time": "2023-06-14T10:11:33.237735383Z"
        },
        "id": "uP_EuYIl31sH",
        "outputId": "65a0cccf-4e42-46de-c36d-a7cb56238e08"
      },
      "outputs": [
        {
          "name": "stdout",
          "output_type": "stream",
          "text": [
            "Only CPU accelerator is connected.\n"
          ]
        }
      ],
      "source": [
        "# @title Set up JAX for available hardware (run me) { display-mode: \"form\" }\n",
        "\n",
        "import subprocess\n",
        "import os\n",
        "\n",
        "# Based on https://stackoverflow.com/questions/67504079/how-to-check-if-an-nvidia-gpu-is-available-on-my-system\n",
        "try:\n",
        "    subprocess.check_output('nvidia-smi')\n",
        "    print(\"a GPU is connected.\")\n",
        "except Exception:\n",
        "    # TPU or CPU\n",
        "    if \"COLAB_TPU_ADDR\" in os.environ and os.environ[\"COLAB_TPU_ADDR\"]:\n",
        "        import jax.tools.colab_tpu\n",
        "\n",
        "        jax.tools.colab_tpu.setup_tpu()\n",
        "        print(\"A TPU is connected.\")\n",
        "    else:\n",
        "        print(\"Only CPU accelerator is connected.\")"
      ]
    },
    {
      "cell_type": "code",
      "source": [],
      "metadata": {
        "id": "LOCO5kwY4LHS"
      },
      "execution_count": null,
      "outputs": []
    }
  ],
  "metadata": {
    "kernelspec": {
      "display_name": "Python 3 (ipykernel)",
      "language": "python",
      "name": "python3"
    },
    "language_info": {
      "codemirror_mode": {
        "name": "ipython",
        "version": 3
      },
      "file_extension": ".py",
      "mimetype": "text/x-python",
      "name": "python",
      "nbconvert_exporter": "python",
      "pygments_lexer": "ipython3",
      "version": "3.8.10"
    },
    "colab": {
      "provenance": []
    }
  },
  "nbformat": 4,
  "nbformat_minor": 0
}